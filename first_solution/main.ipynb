{
 "cells": [
  {
   "cell_type": "code",
   "execution_count": 111,
   "metadata": {},
   "outputs": [],
   "source": [
    "from data import NERDataset\n",
    "from data import collate_batch\n",
    "\n",
    "train_dataset = NERDataset(mode='train')\n",
    "test_dataset = NERDataset(mode='test')\n",
    "dev_dataset = NERDataset(mode='dev')"
   ]
  },
  {
   "cell_type": "code",
   "execution_count": 112,
   "metadata": {},
   "outputs": [],
   "source": [
    "from tqdm import tqdm\n",
    "import torch.nn as nn\n",
    "import torch\n",
    "\n",
    "# train the model for only one epoch\n",
    "def train_epoch(model, train_dataloader, optimizer, epoch=None, clip=None, device='cpu'):\n",
    "    loop = tqdm(\n",
    "        enumerate(train_dataloader),\n",
    "        total=len(train_dataloader),\n",
    "        desc=f'Training {epoch if epoch else \"\"}',\n",
    "    )\n",
    "    \n",
    "    model.train()\n",
    "    train_loss = 0\n",
    "    for i, batch in loop:\n",
    "        input_ids, token_type_ids, tags_ids = batch[:3]\n",
    "        input_ids, token_type_ids, tags_ids = input_ids.to(device), token_type_ids.to(device), tags_ids.to(device)\n",
    "        \n",
    "        optimizer.zero_grad()\n",
    "\n",
    "        # make the prediction\n",
    "        loss = model(\n",
    "            input_ids,\n",
    "            token_type_ids=token_type_ids,\n",
    "            attention_mask=(input_ids != 0).long().to(device),\n",
    "            labels=tags_ids,\n",
    "        )[0]\n",
    "\n",
    "        loss.backward()\n",
    "        if clip:\n",
    "            torch.nn.utils.clip_grad_norm_(model.parameters(), clip)\n",
    "            \n",
    "        optimizer.step()\n",
    "        \n",
    "        train_loss += loss.item()\n",
    "        loop.set_postfix(**{\"loss\": train_loss / (i + 1)})\n",
    "    return train_loss / len(train_dataloader)\n",
    "\n",
    "# evaluate the model for only one epoch\n",
    "def eval_epoch(model, eval_dataloader, epoch=None, device='cpu'):\n",
    "    loop = tqdm(\n",
    "        enumerate(eval_dataloader),\n",
    "        total=len(eval_dataloader),\n",
    "        desc=f'Evaluating {epoch if epoch else \"\"}',\n",
    "    )\n",
    "    \n",
    "    model.eval()\n",
    "    eval_loss = 0\n",
    "    with torch.no_grad():\n",
    "        for i, batch in loop:\n",
    "            input_ids, token_type_ids, tags_ids = batch[:3]\n",
    "            input_ids, token_type_ids, tags_ids = input_ids.to(device), token_type_ids.to(device), tags_ids.to(device)\n",
    "            \n",
    "            # make the prediction\n",
    "            loss = model(\n",
    "                input_ids,\n",
    "                token_type_ids=token_type_ids,\n",
    "                attention_mask=(input_ids != 0).long().to(device),\n",
    "                labels=tags_ids,\n",
    "            )[0]\n",
    "\n",
    "            eval_loss += loss.item()\n",
    "            loop.set_postfix(**{\"loss\": eval_loss / (i + 1)})\n",
    "    return eval_loss / len(eval_dataloader)\n",
    "\n",
    "\n",
    "def train(\n",
    "    model=None,\n",
    "    loaders=None,\n",
    "    optimizer=None,\n",
    "    epochs=10,\n",
    "    device=None,\n",
    "    clip_grad=None,\n",
    "    ckpt_path='best.pt',\n",
    "    best_loss=float('inf'),\n",
    "    cur_epoch=1,\n",
    "    return_model=False,\n",
    "):      \n",
    "    epoch_cnt = 0\n",
    "    for epoch in range(cur_epoch, epochs + cur_epoch):\n",
    "        train_loss = train_epoch(model, loaders[0], optimizer, epoch, clip_grad, device)\n",
    "        if len(loaders) > 1:\n",
    "            val_loss = eval_epoch(model, loaders[1], epoch, device)\n",
    "        else:\n",
    "            val_loss = train_loss\n",
    "        \n",
    "        if val_loss < best_loss:\n",
    "            best_loss = val_loss\n",
    "            torch.save(model, ckpt_path)\n",
    "    \n",
    "    if return_model:\n",
    "        return best_loss, model\n",
    "    return best_loss"
   ]
  },
  {
   "cell_type": "code",
   "execution_count": 117,
   "metadata": {},
   "outputs": [
    {
     "name": "stdout",
     "output_type": "stream",
     "text": [
      "device: cuda\n"
     ]
    }
   ],
   "source": [
    "# get the dataloaders\n",
    "from torch.utils.data import DataLoader\n",
    "\n",
    "BATCH_SIZE = 16\n",
    "NUM_WORKERS = 0\n",
    "device = torch.device('cuda' if torch.cuda.is_available() else 'cpu')\n",
    "print(f\"device: {device}\")\n",
    "\n",
    "train_dataloader = DataLoader(train_dataset, batch_size=BATCH_SIZE, shuffle=True, num_workers=NUM_WORKERS, collate_fn=collate_batch)\n",
    "test_dataloader = DataLoader(test_dataset, batch_size=BATCH_SIZE, shuffle=False, num_workers=NUM_WORKERS, collate_fn=collate_batch)\n",
    "dev_dataloader = DataLoader(dev_dataset, batch_size=BATCH_SIZE, shuffle=False, num_workers=NUM_WORKERS, collate_fn=collate_batch)"
   ]
  },
  {
   "cell_type": "code",
   "execution_count": 122,
   "metadata": {},
   "outputs": [
    {
     "name": "stderr",
     "output_type": "stream",
     "text": [
      "Some weights of the model checkpoint at DeepPavlov/rubert-base-cased were not used when initializing BertForTokenClassification: ['cls.predictions.transform.dense.bias', 'cls.predictions.decoder.bias', 'cls.seq_relationship.bias', 'cls.seq_relationship.weight', 'cls.predictions.transform.LayerNorm.bias', 'cls.predictions.decoder.weight', 'cls.predictions.transform.LayerNorm.weight', 'cls.predictions.transform.dense.weight', 'cls.predictions.bias']\n",
      "- This IS expected if you are initializing BertForTokenClassification from the checkpoint of a model trained on another task or with another architecture (e.g. initializing a BertForSequenceClassification model from a BertForPreTraining model).\n",
      "- This IS NOT expected if you are initializing BertForTokenClassification from the checkpoint of a model that you expect to be exactly identical (initializing a BertForSequenceClassification model from a BertForSequenceClassification model).\n",
      "Some weights of BertForTokenClassification were not initialized from the model checkpoint at DeepPavlov/rubert-base-cased and are newly initialized: ['classifier.bias', 'classifier.weight']\n",
      "You should probably TRAIN this model on a down-stream task to be able to use it for predictions and inference.\n"
     ]
    },
    {
     "data": {
      "text/plain": [
       "BertForTokenClassification(\n",
       "  (bert): BertModel(\n",
       "    (embeddings): BertEmbeddings(\n",
       "      (word_embeddings): Embedding(119547, 768, padding_idx=0)\n",
       "      (position_embeddings): Embedding(512, 768)\n",
       "      (token_type_embeddings): Embedding(2, 768)\n",
       "      (LayerNorm): LayerNorm((768,), eps=1e-12, elementwise_affine=True)\n",
       "      (dropout): Dropout(p=0.1, inplace=False)\n",
       "    )\n",
       "    (encoder): BertEncoder(\n",
       "      (layer): ModuleList(\n",
       "        (0-11): 12 x BertLayer(\n",
       "          (attention): BertAttention(\n",
       "            (self): BertSelfAttention(\n",
       "              (query): Linear(in_features=768, out_features=768, bias=True)\n",
       "              (key): Linear(in_features=768, out_features=768, bias=True)\n",
       "              (value): Linear(in_features=768, out_features=768, bias=True)\n",
       "              (dropout): Dropout(p=0.1, inplace=False)\n",
       "            )\n",
       "            (output): BertSelfOutput(\n",
       "              (dense): Linear(in_features=768, out_features=768, bias=True)\n",
       "              (LayerNorm): LayerNorm((768,), eps=1e-12, elementwise_affine=True)\n",
       "              (dropout): Dropout(p=0.1, inplace=False)\n",
       "            )\n",
       "          )\n",
       "          (intermediate): BertIntermediate(\n",
       "            (dense): Linear(in_features=768, out_features=3072, bias=True)\n",
       "            (intermediate_act_fn): GELUActivation()\n",
       "          )\n",
       "          (output): BertOutput(\n",
       "            (dense): Linear(in_features=3072, out_features=768, bias=True)\n",
       "            (LayerNorm): LayerNorm((768,), eps=1e-12, elementwise_affine=True)\n",
       "            (dropout): Dropout(p=0.1, inplace=False)\n",
       "          )\n",
       "        )\n",
       "      )\n",
       "    )\n",
       "  )\n",
       "  (dropout): Dropout(p=0.1, inplace=False)\n",
       "  (classifier): Linear(in_features=768, out_features=117, bias=True)\n",
       ")"
      ]
     },
     "execution_count": 122,
     "metadata": {},
     "output_type": "execute_result"
    }
   ],
   "source": [
    "# get the model\n",
    "from transformers import BertForTokenClassification\n",
    "\n",
    "model = BertForTokenClassification.from_pretrained(\"DeepPavlov/rubert-base-cased\", num_labels = 29 * 4 + 1, return_dict = False)\n",
    "model.to(device)"
   ]
  },
  {
   "cell_type": "code",
   "execution_count": 123,
   "metadata": {},
   "outputs": [],
   "source": [
    "LEARNING_RATE = 3e-4\n",
    "\n",
    "parameters = [p for n, p in model.named_parameters() if n.startswith('classifier')]\n",
    "optimizer = torch.optim.Adam(parameters, lr=LEARNING_RATE)"
   ]
  },
  {
   "cell_type": "code",
   "execution_count": 136,
   "metadata": {},
   "outputs": [
    {
     "name": "stderr",
     "output_type": "stream",
     "text": [
      "Training 1: 100%|██████████| 58/58 [00:31<00:00,  1.87it/s, loss=1.88]\n",
      "Evaluating 1: 100%|██████████| 12/12 [00:02<00:00,  5.05it/s, loss=1.75]\n",
      "Training 2: 100%|██████████| 58/58 [00:30<00:00,  1.89it/s, loss=1.56]\n",
      "Evaluating 2: 100%|██████████| 12/12 [00:02<00:00,  5.02it/s, loss=1.54]\n",
      "Training 3: 100%|██████████| 58/58 [00:30<00:00,  1.88it/s, loss=1.35]\n",
      "Evaluating 3: 100%|██████████| 12/12 [00:02<00:00,  5.04it/s, loss=1.38]\n",
      "Training 4: 100%|██████████| 58/58 [00:30<00:00,  1.88it/s, loss=1.21]\n",
      "Evaluating 4: 100%|██████████| 12/12 [00:02<00:00,  5.02it/s, loss=1.26]\n",
      "Training 5: 100%|██████████| 58/58 [00:31<00:00,  1.86it/s, loss=1.1] \n",
      "Evaluating 5: 100%|██████████| 12/12 [00:02<00:00,  4.93it/s, loss=1.17]\n",
      "Training 6: 100%|██████████| 58/58 [00:30<00:00,  1.88it/s, loss=1.01] \n",
      "Evaluating 6: 100%|██████████| 12/12 [00:02<00:00,  5.00it/s, loss=1.1] \n",
      "Training 7: 100%|██████████| 58/58 [00:30<00:00,  1.88it/s, loss=0.935]\n",
      "Evaluating 7: 100%|██████████| 12/12 [00:02<00:00,  5.02it/s, loss=1.04]\n",
      "Training 8: 100%|██████████| 58/58 [00:31<00:00,  1.87it/s, loss=0.878]\n",
      "Evaluating 8: 100%|██████████| 12/12 [00:02<00:00,  5.00it/s, loss=0.988]\n",
      "Training 9: 100%|██████████| 58/58 [00:30<00:00,  1.88it/s, loss=0.824]\n",
      "Evaluating 9: 100%|██████████| 12/12 [00:02<00:00,  4.96it/s, loss=0.945]\n",
      "Training 10: 100%|██████████| 58/58 [00:30<00:00,  1.87it/s, loss=0.782]\n",
      "Evaluating 10: 100%|██████████| 12/12 [00:02<00:00,  5.05it/s, loss=0.91] \n"
     ]
    },
    {
     "data": {
      "text/plain": [
       "0.9101544320583344"
      ]
     },
     "execution_count": 136,
     "metadata": {},
     "output_type": "execute_result"
    }
   ],
   "source": [
    "train(model, loaders=(train_dataloader, test_dataloader), optimizer=optimizer, epochs=10, device=device)"
   ]
  },
  {
   "cell_type": "code",
   "execution_count": 250,
   "metadata": {},
   "outputs": [],
   "source": [
    "def val(text, model, dataset, addit=0):\n",
    "    t = dataset.tokenizer(text)\n",
    "\n",
    "    input_ids = torch.LongTensor(t['input_ids']).reshape(1, -1)\n",
    "    token_type_ids = torch.LongTensor(t['token_type_ids']).reshape(1, -1)\n",
    "    attention_mask = (input_ids != 0).long()\n",
    "\n",
    "    input_ids = input_ids.to(device)\n",
    "    token_type_ids = token_type_ids.to(device)\n",
    "    attention_mask = attention_mask.to(device)\n",
    "\n",
    "    model.eval()\n",
    "    output = model(input_ids, token_type_ids=token_type_ids, attention_mask=attention_mask)\n",
    "    tag2id = dataset.tags2id\n",
    "    id2tag = {v: k for k, v in tag2id.items()}\n",
    "    typs = output[0].argmax(-1).squeeze()\n",
    "\n",
    "    res = []\n",
    "    start = 0\n",
    "    ltag = []\n",
    "    i = 0\n",
    "    while i < len(typs):\n",
    "        if typs[i] == 0:\n",
    "            i += 1\n",
    "            continue\n",
    "        \n",
    "        j = i + 1\n",
    "        while j < len(typs):\n",
    "            if id2tag[typs[j].item()][2:] != id2tag[typs[i].item()][2:]:\n",
    "                break \n",
    "            j += 1\n",
    "        \n",
    "        dataset.tokenizer.decode(t['input_ids'][i:j])\n",
    "        target = dataset.tokenizer.decode(t['input_ids'][i:j])\n",
    "\n",
    "        res.append([text.find(target, start) + addit, text.find(target, start) + len(target) + addit - 1, id2tag[typs[i].item()][2:]])\n",
    "        i = j\n",
    "    \n",
    "    return res"
   ]
  },
  {
   "cell_type": "code",
   "execution_count": 262,
   "metadata": {},
   "outputs": [],
   "source": [
    "import json\n",
    "\n",
    "write = open(\"test.jsonl\", \"w\")\n",
    "\n",
    "with open(\"public_dat/test.jsonl\", \"r\") as f:\n",
    "    for line in f.readlines():\n",
    "        start = 0\n",
    "        proverka = json.loads(line)\n",
    "        sentences = proverka['senences']\n",
    "        proverka[\"ners\"] = []\n",
    "        for sentence in sentences.split('\\n'):\n",
    "            proverka['ners'].extend(val(sentence, model, train_dataset, addit=start))\n",
    "            start += len(sentence) + 1\n",
    "        write.write(json.dumps(proverka))\n",
    "        write.write('\\n')\n",
    "write.close()"
   ]
  }
 ],
 "metadata": {
  "kernelspec": {
   "display_name": "base",
   "language": "python",
   "name": "python3"
  },
  "language_info": {
   "codemirror_mode": {
    "name": "ipython",
    "version": 3
   },
   "file_extension": ".py",
   "mimetype": "text/x-python",
   "name": "python",
   "nbconvert_exporter": "python",
   "pygments_lexer": "ipython3",
   "version": "3.10.9"
  }
 },
 "nbformat": 4,
 "nbformat_minor": 2
}
