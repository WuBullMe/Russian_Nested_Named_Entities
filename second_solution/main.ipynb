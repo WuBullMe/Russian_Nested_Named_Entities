{
 "cells": [
  {
   "cell_type": "code",
   "execution_count": 269,
   "metadata": {},
   "outputs": [
    {
     "data": {
      "application/vnd.jupyter.widget-view+json": {
       "model_id": "29175fe5fada4420ba6ff6b04e5ed007",
       "version_major": 2,
       "version_minor": 0
      },
      "text/plain": [
       "tokenizer_config.json:   0%|          | 0.00/49.0 [00:00<?, ?B/s]"
      ]
     },
     "metadata": {},
     "output_type": "display_data"
    },
    {
     "name": "stderr",
     "output_type": "stream",
     "text": [
      "c:\\Users\\Muhammad\\anaconda3\\lib\\site-packages\\huggingface_hub\\file_download.py:148: UserWarning: `huggingface_hub` cache-system uses symlinks by default to efficiently store duplicated files but your machine does not support them in C:\\Users\\Muhammad\\.cache\\huggingface\\hub\\models--google-bert--bert-base-multilingual-cased. Caching files will still work but in a degraded version that might require more space on your disk. This warning can be disabled by setting the `HF_HUB_DISABLE_SYMLINKS_WARNING` environment variable. For more details, see https://huggingface.co/docs/huggingface_hub/how-to-cache#limitations.\n",
      "To support symlinks on Windows, you either need to activate Developer Mode or to run Python as an administrator. In order to see activate developer mode, see this article: https://docs.microsoft.com/en-us/windows/apps/get-started/enable-your-device-for-development\n",
      "  warnings.warn(message)\n"
     ]
    },
    {
     "data": {
      "application/vnd.jupyter.widget-view+json": {
       "model_id": "98e9fe0279b944df806884a5346c2aa0",
       "version_major": 2,
       "version_minor": 0
      },
      "text/plain": [
       "config.json:   0%|          | 0.00/625 [00:00<?, ?B/s]"
      ]
     },
     "metadata": {},
     "output_type": "display_data"
    },
    {
     "data": {
      "application/vnd.jupyter.widget-view+json": {
       "model_id": "15f14dc015b34e3aa13235c729bec621",
       "version_major": 2,
       "version_minor": 0
      },
      "text/plain": [
       "vocab.txt:   0%|          | 0.00/996k [00:00<?, ?B/s]"
      ]
     },
     "metadata": {},
     "output_type": "display_data"
    },
    {
     "data": {
      "application/vnd.jupyter.widget-view+json": {
       "model_id": "2f6d0d5f2f8c417abe9bcb6152706e9c",
       "version_major": 2,
       "version_minor": 0
      },
      "text/plain": [
       "tokenizer.json:   0%|          | 0.00/1.96M [00:00<?, ?B/s]"
      ]
     },
     "metadata": {},
     "output_type": "display_data"
    }
   ],
   "source": [
    "from data import NERDataset\n",
    "from data import collate_batch\n",
    "\n",
    "train_dataset = NERDataset(mode='train', tokenizer='google-bert/bert-base-multilingual-cased')\n",
    "test_dataset = NERDataset(mode='test', tokenizer='google-bert/bert-base-multilingual-cased')\n",
    "dev_dataset = NERDataset(mode='dev', tokenizer='google-bert/bert-base-multilingual-cased')"
   ]
  },
  {
   "cell_type": "code",
   "execution_count": 270,
   "metadata": {},
   "outputs": [],
   "source": [
    "from tqdm import tqdm\n",
    "import torch.nn as nn\n",
    "import torch\n",
    "\n",
    "# train the model for only one epoch\n",
    "def train_epoch(model, train_dataloader, optimizer, epoch=None, clip=None, device='cpu'):\n",
    "    loop = tqdm(\n",
    "        enumerate(train_dataloader),\n",
    "        total=len(train_dataloader),\n",
    "        desc=f'Training {epoch if epoch else \"\"}',\n",
    "    )\n",
    "    \n",
    "    model.train()\n",
    "    train_loss = 0\n",
    "    for i, batch in loop:\n",
    "        input_ids, token_type_ids, tags_ids = batch[:3]\n",
    "        input_ids, token_type_ids, tags_ids = input_ids.to(device), token_type_ids.to(device), tags_ids.to(device)\n",
    "        \n",
    "        optimizer.zero_grad()\n",
    "\n",
    "        # make the prediction\n",
    "        loss = model(\n",
    "            input_ids,\n",
    "            token_type_ids=token_type_ids,\n",
    "            attention_mask=(input_ids != 0).long().to(device),\n",
    "            labels=tags_ids,\n",
    "        )[0]\n",
    "\n",
    "        loss.backward()\n",
    "        if clip:\n",
    "            torch.nn.utils.clip_grad_norm_(model.parameters(), clip)\n",
    "            \n",
    "        optimizer.step()\n",
    "        \n",
    "        train_loss += loss.item()\n",
    "        loop.set_postfix(**{\"loss\": train_loss / (i + 1)})\n",
    "    return train_loss / len(train_dataloader)\n",
    "\n",
    "# evaluate the model for only one epoch\n",
    "def eval_epoch(model, eval_dataloader, epoch=None, device='cpu'):\n",
    "    loop = tqdm(\n",
    "        enumerate(eval_dataloader),\n",
    "        total=len(eval_dataloader),\n",
    "        desc=f'Evaluating {epoch if epoch else \"\"}',\n",
    "    )\n",
    "    \n",
    "    model.eval()\n",
    "    eval_loss = 0\n",
    "    with torch.no_grad():\n",
    "        for i, batch in loop:\n",
    "            input_ids, token_type_ids, tags_ids = batch[:3]\n",
    "            input_ids, token_type_ids, tags_ids = input_ids.to(device), token_type_ids.to(device), tags_ids.to(device)\n",
    "            \n",
    "            # make the prediction\n",
    "            loss = model(\n",
    "                input_ids,\n",
    "                token_type_ids=token_type_ids,\n",
    "                attention_mask=(input_ids != 0).long().to(device),\n",
    "                labels=tags_ids,\n",
    "            )[0]\n",
    "\n",
    "            eval_loss += loss.item()\n",
    "            loop.set_postfix(**{\"loss\": eval_loss / (i + 1)})\n",
    "    return eval_loss / len(eval_dataloader)\n",
    "\n",
    "\n",
    "def train(\n",
    "    model=None,\n",
    "    loaders=None,\n",
    "    optimizer=None,\n",
    "    epochs=10,\n",
    "    device=None,\n",
    "    clip_grad=None,\n",
    "    ckpt_path='best.pt',\n",
    "    best_loss=float('inf'),\n",
    "    cur_epoch=1,\n",
    "    return_model=False,\n",
    "):      \n",
    "    epoch_cnt = 0\n",
    "    for epoch in range(cur_epoch, epochs + cur_epoch):\n",
    "        train_loss = train_epoch(model, loaders[0], optimizer, epoch, clip_grad, device)\n",
    "        if len(loaders) > 1:\n",
    "            val_loss = eval_epoch(model, loaders[1], epoch, device)\n",
    "        else:\n",
    "            val_loss = train_loss\n",
    "        \n",
    "        if val_loss < best_loss:\n",
    "            best_loss = val_loss\n",
    "            torch.save(model, ckpt_path)\n",
    "    \n",
    "    if return_model:\n",
    "        return best_loss, model\n",
    "    return best_loss"
   ]
  },
  {
   "cell_type": "code",
   "execution_count": 271,
   "metadata": {},
   "outputs": [
    {
     "name": "stdout",
     "output_type": "stream",
     "text": [
      "device: cuda\n"
     ]
    }
   ],
   "source": [
    "# get the dataloaders\n",
    "from torch.utils.data import DataLoader\n",
    "\n",
    "BATCH_SIZE = 16\n",
    "NUM_WORKERS = 0\n",
    "device = torch.device('cuda' if torch.cuda.is_available() else 'cpu')\n",
    "print(f\"device: {device}\")\n",
    "\n",
    "train_dataloader = DataLoader(train_dataset, batch_size=BATCH_SIZE, shuffle=True, num_workers=NUM_WORKERS, collate_fn=collate_batch)\n",
    "test_dataloader = DataLoader(test_dataset, batch_size=BATCH_SIZE, shuffle=False, num_workers=NUM_WORKERS, collate_fn=collate_batch)\n",
    "dev_dataloader = DataLoader(dev_dataset, batch_size=BATCH_SIZE, shuffle=False, num_workers=NUM_WORKERS, collate_fn=collate_batch)"
   ]
  },
  {
   "cell_type": "code",
   "execution_count": 275,
   "metadata": {},
   "outputs": [],
   "source": [
    "# Fine-tuning the model"
   ]
  },
  {
   "cell_type": "code",
   "execution_count": 272,
   "metadata": {},
   "outputs": [
    {
     "data": {
      "application/vnd.jupyter.widget-view+json": {
       "model_id": "3fea2dce59d64c04851559564c14c508",
       "version_major": 2,
       "version_minor": 0
      },
      "text/plain": [
       "pytorch_model.bin:   0%|          | 0.00/714M [00:00<?, ?B/s]"
      ]
     },
     "metadata": {},
     "output_type": "display_data"
    },
    {
     "name": "stderr",
     "output_type": "stream",
     "text": [
      "Some weights of the model checkpoint at google-bert/bert-base-multilingual-cased were not used when initializing BertForTokenClassification: ['cls.predictions.transform.dense.bias', 'cls.seq_relationship.bias', 'cls.seq_relationship.weight', 'cls.predictions.transform.LayerNorm.bias', 'cls.predictions.decoder.weight', 'cls.predictions.transform.LayerNorm.weight', 'cls.predictions.transform.dense.weight', 'cls.predictions.bias']\n",
      "- This IS expected if you are initializing BertForTokenClassification from the checkpoint of a model trained on another task or with another architecture (e.g. initializing a BertForSequenceClassification model from a BertForPreTraining model).\n",
      "- This IS NOT expected if you are initializing BertForTokenClassification from the checkpoint of a model that you expect to be exactly identical (initializing a BertForSequenceClassification model from a BertForSequenceClassification model).\n",
      "Some weights of BertForTokenClassification were not initialized from the model checkpoint at google-bert/bert-base-multilingual-cased and are newly initialized: ['classifier.bias', 'classifier.weight']\n",
      "You should probably TRAIN this model on a down-stream task to be able to use it for predictions and inference.\n"
     ]
    },
    {
     "data": {
      "text/plain": [
       "BertForTokenClassification(\n",
       "  (bert): BertModel(\n",
       "    (embeddings): BertEmbeddings(\n",
       "      (word_embeddings): Embedding(119547, 768, padding_idx=0)\n",
       "      (position_embeddings): Embedding(512, 768)\n",
       "      (token_type_embeddings): Embedding(2, 768)\n",
       "      (LayerNorm): LayerNorm((768,), eps=1e-12, elementwise_affine=True)\n",
       "      (dropout): Dropout(p=0.1, inplace=False)\n",
       "    )\n",
       "    (encoder): BertEncoder(\n",
       "      (layer): ModuleList(\n",
       "        (0-11): 12 x BertLayer(\n",
       "          (attention): BertAttention(\n",
       "            (self): BertSelfAttention(\n",
       "              (query): Linear(in_features=768, out_features=768, bias=True)\n",
       "              (key): Linear(in_features=768, out_features=768, bias=True)\n",
       "              (value): Linear(in_features=768, out_features=768, bias=True)\n",
       "              (dropout): Dropout(p=0.1, inplace=False)\n",
       "            )\n",
       "            (output): BertSelfOutput(\n",
       "              (dense): Linear(in_features=768, out_features=768, bias=True)\n",
       "              (LayerNorm): LayerNorm((768,), eps=1e-12, elementwise_affine=True)\n",
       "              (dropout): Dropout(p=0.1, inplace=False)\n",
       "            )\n",
       "          )\n",
       "          (intermediate): BertIntermediate(\n",
       "            (dense): Linear(in_features=768, out_features=3072, bias=True)\n",
       "            (intermediate_act_fn): GELUActivation()\n",
       "          )\n",
       "          (output): BertOutput(\n",
       "            (dense): Linear(in_features=3072, out_features=768, bias=True)\n",
       "            (LayerNorm): LayerNorm((768,), eps=1e-12, elementwise_affine=True)\n",
       "            (dropout): Dropout(p=0.1, inplace=False)\n",
       "          )\n",
       "        )\n",
       "      )\n",
       "    )\n",
       "  )\n",
       "  (dropout): Dropout(p=0.1, inplace=False)\n",
       "  (classifier): Linear(in_features=768, out_features=117, bias=True)\n",
       ")"
      ]
     },
     "execution_count": 272,
     "metadata": {},
     "output_type": "execute_result"
    }
   ],
   "source": [
    "# get the model\n",
    "from transformers import BertForTokenClassification\n",
    "\n",
    "model = BertForTokenClassification.from_pretrained(\"google-bert/bert-base-multilingual-cased\", num_labels = 29 * 4 + 1, return_dict = False)\n",
    "model.to(device)"
   ]
  },
  {
   "cell_type": "code",
   "execution_count": 273,
   "metadata": {},
   "outputs": [],
   "source": [
    "LEARNING_RATE = 3e-4\n",
    "\n",
    "parameters = [p for n, p in model.named_parameters() if n.startswith('classifier')]\n",
    "optimizer = torch.optim.Adam(parameters, lr=LEARNING_RATE)"
   ]
  },
  {
   "cell_type": "code",
   "execution_count": 276,
   "metadata": {},
   "outputs": [
    {
     "name": "stderr",
     "output_type": "stream",
     "text": [
      "Training 1: 100%|██████████| 29/29 [02:36<00:00,  5.40s/it, loss=2.13]\n",
      "Evaluating 1: 100%|██████████| 6/6 [00:04<00:00,  1.33it/s, loss=2.07]\n",
      "Training 2: 100%|██████████| 29/29 [02:41<00:00,  5.57s/it, loss=1.9] \n",
      "Evaluating 2: 100%|██████████| 6/6 [00:03<00:00,  1.75it/s, loss=1.9] \n",
      "Training 3: 100%|██████████| 29/29 [02:40<00:00,  5.53s/it, loss=1.74]\n",
      "Evaluating 3: 100%|██████████| 6/6 [00:04<00:00,  1.29it/s, loss=1.76]\n"
     ]
    },
    {
     "data": {
      "text/plain": [
       "1.7619936267534893"
      ]
     },
     "execution_count": 276,
     "metadata": {},
     "output_type": "execute_result"
    }
   ],
   "source": [
    "train(model, loaders=(train_dataloader, test_dataloader), optimizer=optimizer, epochs=3, device=device)"
   ]
  },
  {
   "cell_type": "code",
   "execution_count": 277,
   "metadata": {},
   "outputs": [],
   "source": [
    "def val(text, model, dataset, addit=0):\n",
    "    t = dataset.tokenizer(text)\n",
    "\n",
    "    input_ids = torch.LongTensor(t['input_ids']).reshape(1, -1)\n",
    "    token_type_ids = torch.LongTensor(t['token_type_ids']).reshape(1, -1)\n",
    "    attention_mask = (input_ids != 0).long()\n",
    "\n",
    "    input_ids = input_ids.to(device)\n",
    "    token_type_ids = token_type_ids.to(device)\n",
    "    attention_mask = attention_mask.to(device)\n",
    "\n",
    "    model.eval()\n",
    "    output = model(input_ids, token_type_ids=token_type_ids, attention_mask=attention_mask)\n",
    "    tag2id = dataset.tags2id\n",
    "    id2tag = {v: k for k, v in tag2id.items()}\n",
    "    typs = output[0].argmax(-1).squeeze()\n",
    "\n",
    "    res = []\n",
    "    start = 0\n",
    "    ltag = []\n",
    "    i = 0\n",
    "    while i < len(typs):\n",
    "        if typs[i] == 0:\n",
    "            i += 1\n",
    "            continue\n",
    "        \n",
    "        j = i + 1\n",
    "        while j < len(typs):\n",
    "            if id2tag[typs[j].item()][2:] != id2tag[typs[i].item()][2:]:\n",
    "                break \n",
    "            j += 1\n",
    "        \n",
    "        dataset.tokenizer.decode(t['input_ids'][i:j])\n",
    "        target = dataset.tokenizer.decode(t['input_ids'][i:j])\n",
    "\n",
    "        res.append([text.find(target, start) + addit, text.find(target, start) + len(target) + addit - 1, id2tag[typs[i].item()][2:]])\n",
    "        i = j\n",
    "    \n",
    "    return res"
   ]
  },
  {
   "cell_type": "code",
   "execution_count": 278,
   "metadata": {},
   "outputs": [],
   "source": [
    "import json\n",
    "\n",
    "write = open(\"test.jsonl\", \"w\")\n",
    "\n",
    "with open(\"public_dat/test.jsonl\", \"r\") as f:\n",
    "    for line in f.readlines():\n",
    "        start = 0\n",
    "        proverka = json.loads(line)\n",
    "        sentences = proverka['senences']\n",
    "        proverka[\"ners\"] = []\n",
    "        for sentence in sentences.split('\\n'):\n",
    "            proverka['ners'].extend(val(sentence, model, train_dataset, addit=start))\n",
    "            start += len(sentence) + 1\n",
    "        write.write(json.dumps(proverka))\n",
    "        write.write('\\n')\n",
    "write.close()"
   ]
  }
 ],
 "metadata": {
  "kernelspec": {
   "display_name": "base",
   "language": "python",
   "name": "python3"
  },
  "language_info": {
   "codemirror_mode": {
    "name": "ipython",
    "version": 3
   },
   "file_extension": ".py",
   "mimetype": "text/x-python",
   "name": "python",
   "nbconvert_exporter": "python",
   "pygments_lexer": "ipython3",
   "version": "3.10.9"
  }
 },
 "nbformat": 4,
 "nbformat_minor": 2
}
